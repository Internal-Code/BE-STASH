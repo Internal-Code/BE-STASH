{
 "cells": [
  {
   "cell_type": "markdown",
   "metadata": {},
   "source": [
    "# Importing dependencies"
   ]
  },
  {
   "cell_type": "code",
   "execution_count": 2,
   "metadata": {},
   "outputs": [
    {
     "name": "stdout",
     "output_type": "stream",
     "text": [
      "c:\\Users\\Armananta\\miniconda3\\envs\\personal-project\\finance-bas\n"
     ]
    }
   ],
   "source": [
    "cd ../"
   ]
  },
  {
   "cell_type": "code",
   "execution_count": 15,
   "metadata": {},
   "outputs": [],
   "source": [
    "import asyncio\n",
    "from datetime import datetime\n",
    "from pytz import timezone\n",
    "from typing import Union\n",
    "from loguru import logger\n",
    "from asyncio import create_task\n",
    "from sqlalchemy.ext.declarative import declarative_base\n",
    "from sqlalchemy.ext.asyncio import async_sessionmaker\n",
    "from sqlalchemy.orm import DeclarativeBase\n",
    "from api.supabase.supabase_conection import database_connection\n",
    "from sqlalchemy import Table,Column,Integer,MetaData,String,Text"
   ]
  },
  {
   "cell_type": "markdown",
   "metadata": {},
   "source": [
    "# Exploring endpoint add category for table spending_money_category"
   ]
  },
  {
   "cell_type": "code",
   "execution_count": 13,
   "metadata": {},
   "outputs": [],
   "source": [
    "engine = database_connection()\n",
    "localSesson = async_sessionmaker(engine)"
   ]
  },
  {
   "cell_type": "code",
   "execution_count": 29,
   "metadata": {},
   "outputs": [
    {
     "ename": "RuntimeError",
     "evalue": "asyncio.run() cannot be called from a running event loop",
     "output_type": "error",
     "traceback": [
      "\u001b[1;31m---------------------------------------------------------------------------\u001b[0m",
      "\u001b[1;31mRuntimeError\u001b[0m                              Traceback (most recent call last)",
      "Cell \u001b[1;32mIn[29], line 31\u001b[0m\n\u001b[0;32m     24\u001b[0m         \u001b[38;5;28;01mawait\u001b[39;00m conn\u001b[38;5;241m.\u001b[39mexecute(\n\u001b[0;32m     25\u001b[0m             t1\u001b[38;5;241m.\u001b[39minsert(), [{\u001b[38;5;124m\"\u001b[39m\u001b[38;5;124mname\u001b[39m\u001b[38;5;124m\"\u001b[39m: \u001b[38;5;124m\"\u001b[39m\u001b[38;5;124md;a,,d;a 1\u001b[39m\u001b[38;5;124m\"\u001b[39m}]\n\u001b[0;32m     26\u001b[0m         )\n\u001b[0;32m     28\u001b[0m     \u001b[38;5;28;01mawait\u001b[39;00m engine\u001b[38;5;241m.\u001b[39mdispose()\n\u001b[1;32m---> 31\u001b[0m \u001b[43masyncio\u001b[49m\u001b[38;5;241;43m.\u001b[39;49m\u001b[43mrun\u001b[49m\u001b[43m(\u001b[49m\u001b[43masync_main\u001b[49m\u001b[43m(\u001b[49m\u001b[43m)\u001b[49m\u001b[43m)\u001b[49m\n",
      "File \u001b[1;32mc:\\Users\\Armananta\\miniconda3\\envs\\personal-project\\lib\\asyncio\\runners.py:33\u001b[0m, in \u001b[0;36mrun\u001b[1;34m(main, debug)\u001b[0m\n\u001b[0;32m      9\u001b[0m \u001b[38;5;250m\u001b[39m\u001b[38;5;124;03m\"\"\"Execute the coroutine and return the result.\u001b[39;00m\n\u001b[0;32m     10\u001b[0m \n\u001b[0;32m     11\u001b[0m \u001b[38;5;124;03mThis function runs the passed coroutine, taking care of\u001b[39;00m\n\u001b[1;32m   (...)\u001b[0m\n\u001b[0;32m     30\u001b[0m \u001b[38;5;124;03m    asyncio.run(main())\u001b[39;00m\n\u001b[0;32m     31\u001b[0m \u001b[38;5;124;03m\"\"\"\u001b[39;00m\n\u001b[0;32m     32\u001b[0m \u001b[38;5;28;01mif\u001b[39;00m events\u001b[38;5;241m.\u001b[39m_get_running_loop() \u001b[38;5;129;01mis\u001b[39;00m \u001b[38;5;129;01mnot\u001b[39;00m \u001b[38;5;28;01mNone\u001b[39;00m:\n\u001b[1;32m---> 33\u001b[0m     \u001b[38;5;28;01mraise\u001b[39;00m \u001b[38;5;167;01mRuntimeError\u001b[39;00m(\n\u001b[0;32m     34\u001b[0m         \u001b[38;5;124m\"\u001b[39m\u001b[38;5;124masyncio.run() cannot be called from a running event loop\u001b[39m\u001b[38;5;124m\"\u001b[39m)\n\u001b[0;32m     36\u001b[0m \u001b[38;5;28;01mif\u001b[39;00m \u001b[38;5;129;01mnot\u001b[39;00m coroutines\u001b[38;5;241m.\u001b[39miscoroutine(main):\n\u001b[0;32m     37\u001b[0m     \u001b[38;5;28;01mraise\u001b[39;00m \u001b[38;5;167;01mValueError\u001b[39;00m(\u001b[38;5;124m\"\u001b[39m\u001b[38;5;124ma coroutine was expected, got \u001b[39m\u001b[38;5;132;01m{!r}\u001b[39;00m\u001b[38;5;124m\"\u001b[39m\u001b[38;5;241m.\u001b[39mformat(main))\n",
      "\u001b[1;31mRuntimeError\u001b[0m: asyncio.run() cannot be called from a running event loop"
     ]
    }
   ],
   "source": [
    "import asyncio\n",
    "\n",
    "from sqlalchemy import Column\n",
    "from sqlalchemy import MetaData\n",
    "from sqlalchemy import select\n",
    "from sqlalchemy import String\n",
    "from sqlalchemy import Table\n",
    "from sqlalchemy.ext.asyncio import create_async_engine\n",
    "\n",
    "meta = MetaData()\n",
    "t1 = Table(\n",
    "    \"t1\", \n",
    "    meta, \n",
    "    Column(\"id\", String(50), primary_key=True, autoincrement=True),\n",
    "    Column(\"name\", String(50))\n",
    ")\n",
    "\n",
    "\n",
    "async def async_main() -> None:\n",
    "    engine = database_connection()\n",
    "    async with engine.begin() as conn:\n",
    "        await conn.run_sync(meta.drop_all)\n",
    "        await conn.run_sync(meta.create_all)\n",
    "        await conn.execute(\n",
    "            t1.insert(), [{\"name\": \"d;a,,d;a 1\"}]\n",
    "        )\n",
    "   \n",
    "    await engine.dispose()\n",
    "\n",
    "\n",
    "asyncio.run(async_main())"
   ]
  },
  {
   "cell_type": "code",
   "execution_count": 32,
   "metadata": {},
   "outputs": [],
   "source": [
    "def local_time(zone: str = \"Asia/Jakarta\") -> Union[datetime, None]:\n",
    "    try:\n",
    "        time = datetime.now(timezone(zone))\n",
    "        logger.info(f\"Created datetime: {time}\")\n",
    "    except Exception as E:\n",
    "        time = None\n",
    "        logger.error(f\"Error while generating local time: {E}\")\n",
    "    return time"
   ]
  }
 ],
 "metadata": {
  "kernelspec": {
   "display_name": "personal-project",
   "language": "python",
   "name": "python3"
  },
  "language_info": {
   "codemirror_mode": {
    "name": "ipython",
    "version": 3
   },
   "file_extension": ".py",
   "mimetype": "text/x-python",
   "name": "python",
   "nbconvert_exporter": "python",
   "pygments_lexer": "ipython3",
   "version": "3.10.14"
  }
 },
 "nbformat": 4,
 "nbformat_minor": 2
}
